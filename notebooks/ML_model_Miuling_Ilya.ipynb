{
 "cells": [
  {
   "cell_type": "markdown",
   "id": "f9b6b8b6",
   "metadata": {},
   "source": [
    "## Загрузка очищенных данных и загрузка библиотек\n"
   ]
  },
  {
   "cell_type": "code",
   "execution_count": 1,
   "id": "0cbe128c",
   "metadata": {},
   "outputs": [
    {
     "name": "stdout",
     "output_type": "stream",
     "text": [
      "🎯 Библиотеки загружены успешно!\n"
     ]
    }
   ],
   "source": [
    "import pandas as pd\n",
    "import numpy as np\n",
    "import matplotlib.pyplot as plt\n",
    "import seaborn as sns\n",
    "import plotly.express as px\n",
    "import plotly.graph_objects as go\n",
    "from plotly.subplots import make_subplots\n",
    "import missingno\n",
    "import warnings\n",
    "from sklearn.preprocessing import StandardScaler, LabelEncoder, OneHotEncoder\n",
    "from sklearn.feature_selection import mutual_info_classif\n",
    "from scipy import stats\n",
    "from scipy.stats import chi2_contingency, pearsonr\n",
    "import gdown\n",
    "from sklearn.compose import ColumnTransformer\n",
    "from sklearn.pipeline import Pipeline\n",
    "from sklearn.linear_model import LogisticRegression\n",
    "\n",
    "warnings.filterwarnings('ignore')\n",
    "plt.style.use('seaborn-v0_8')\n",
    "sns.set_palette(\"husl\")\n",
    "\n",
    "print(\"🎯 Библиотеки загружены успешно!\")"
   ]
  },
  {
   "cell_type": "markdown",
   "id": "74b13f43",
   "metadata": {},
   "source": [
    "## ЗАГРУЗКА ДАННЫХ\n",
    "df_merged_clean.pkl\n"
   ]
  },
  {
   "cell_type": "code",
   "execution_count": 2,
   "id": "f25231d8",
   "metadata": {},
   "outputs": [
    {
     "name": "stdout",
     "output_type": "stream",
     "text": [
      "Данные успешно загружены!\n",
      "                                  session_id  hit_number  visit_number  \\\n",
      "0  5639623078712724064.1640254056.1640254056          30             2   \n",
      "1  7750352294969115059.1640271109.1640271109          41             2   \n",
      "2   885342191847998240.1640235807.1640235807          49             1   \n",
      "3   142526202120934167.1640211014.1640211014          46             9   \n",
      "4  3450086108837475701.1640265078.1640265078          79             1   \n",
      "\n",
      "  utm_medium        city_group   Device month part_of_day  \\\n",
      "0        cpc  Saint Petersburg   Huawei  12.0         day   \n",
      "1        cpm             Other   Xiaomi  12.0         day   \n",
      "2        cpc            Moscow  desktop  12.0     morning   \n",
      "3        cpc             Other  Samsung  12.0       night   \n",
      "4     direct             Other  desktop  12.0         day   \n",
      "\n",
      "       utm_source_group         keyword_group        campaign_group  \\\n",
      "0  kjsLglQLzykiRbcDiGcD         other_keyword        other_campaign   \n",
      "1  ZpYIoDJMcFzVoPFsHGJL  puhZPIYqKXeFPaUviSjo        other_campaign   \n",
      "2  BHcvLfOaCWvWTykYqHVe         other_keyword        other_campaign   \n",
      "3  BHcvLfOaCWvWTykYqHVe         other_keyword        other_campaign   \n",
      "4  fDLlAcSmythWSCVMvqvL  puhZPIYqKXeFPaUviSjo  LTuZkdKfxRGVceoWkVyg   \n",
      "\n",
      "   Event_Target  \n",
      "0             0  \n",
      "1             0  \n",
      "2             0  \n",
      "3             0  \n",
      "4             0  \n"
     ]
    }
   ],
   "source": [
    "# ============================================================================\n",
    "# 📥 ЗАГРУЗКА ДАННЫХ df_merged.CSV\n",
    "# ============================================================================\n",
    "\n",
    "# Укажите путь к файлу\n",
    "load_path = \"df_merged_clean.pkl\" # укажите верный путь\n",
    "\n",
    "# Загружаем DataFrame\n",
    "df_loaded = pd.read_pickle(load_path)\n",
    "\n",
    "# Проверяем загрузку\n",
    "print(\"Данные успешно загружены!\")\n",
    "print(df_loaded.head())  # Выводим первые строки"
   ]
  },
  {
   "cell_type": "markdown",
   "id": "27e65ede",
   "metadata": {},
   "source": [
    "Проверяем данные"
   ]
  },
  {
   "cell_type": "code",
   "execution_count": 3,
   "id": "cbf023ab",
   "metadata": {},
   "outputs": [
    {
     "name": "stdout",
     "output_type": "stream",
     "text": [
      "<class 'pandas.core.frame.DataFrame'>\n",
      "Index: 15459382 entries, 0 to 15726469\n",
      "Data columns (total 12 columns):\n",
      " #   Column            Non-Null Count     Dtype   \n",
      "---  ------            --------------     -----   \n",
      " 0   session_id        15459382 non-null  object  \n",
      " 1   hit_number        15459382 non-null  int64   \n",
      " 2   visit_number      15459382 non-null  int64   \n",
      " 3   utm_medium        15459382 non-null  category\n",
      " 4   city_group        15459382 non-null  category\n",
      " 5   Device            15459382 non-null  category\n",
      " 6   month             15459382 non-null  category\n",
      " 7   part_of_day       15459382 non-null  category\n",
      " 8   utm_source_group  15459382 non-null  category\n",
      " 9   keyword_group     15459382 non-null  category\n",
      " 10  campaign_group    15459382 non-null  category\n",
      " 11  Event_Target      15459382 non-null  int64   \n",
      "dtypes: category(8), int64(3), object(1)\n",
      "memory usage: 707.7+ MB\n"
     ]
    }
   ],
   "source": [
    "df_merged_model=df_loaded.copy()\n",
    "df_merged_model.info(show_counts=True)"
   ]
  },
  {
   "cell_type": "code",
   "execution_count": 4,
   "id": "48e0d1e7",
   "metadata": {},
   "outputs": [
    {
     "name": "stdout",
     "output_type": "stream",
     "text": [
      "Event_Target\n",
      "0    15397909\n",
      "1       61473\n",
      "Name: count, dtype: int64\n"
     ]
    }
   ],
   "source": [
    "# 1. Посмотреть распределение\n",
    "conversion_counts = df_merged_model['Event_Target'].value_counts()\n",
    "print(conversion_counts)"
   ]
  },
  {
   "cell_type": "code",
   "execution_count": 5,
   "id": "b07878a5",
   "metadata": {},
   "outputs": [],
   "source": [
    "df_merged_model=df_merged_model.drop(columns=['session_id'])"
   ]
  },
  {
   "cell_type": "markdown",
   "id": "d38f7f49",
   "metadata": {},
   "source": [
    "## Подготовка данных\n",
    "разделение данных на учебные и тестовые\n"
   ]
  },
  {
   "cell_type": "code",
   "execution_count": 6,
   "id": "43c4dca1",
   "metadata": {},
   "outputs": [],
   "source": [
    "from sklearn.model_selection import train_test_split\n",
    "from sklearn.metrics import roc_auc_score\n",
    "\n",
    "# 0.  Пропуски (на всякий случай)\n",
    "df_merged_model = df_merged_model.dropna()\n",
    "\n",
    "# 1.  Целевая переменная\n",
    "y = df_merged_model['Event_Target'].astype(int)\n",
    "\n",
    "# 2.  Разбиение (80 / 20)\n",
    "X = df_merged_model.drop(columns=['Event_Target'])\n",
    "X_train, X_test, y_train, y_test = train_test_split(\n",
    "    X, y, test_size=0.2, random_state=42, stratify=y\n",
    ")"
   ]
  },
  {
   "cell_type": "markdown",
   "id": "0c697ed7",
   "metadata": {},
   "source": [
    "Обучим базовую модель\n",
    "\n",
    "Почему это базовая модель?\n",
    "\n",
    "Простота\n",
    "\n",
    "Использует стандартные методы (OneHotEncoder, StandardScaler, LogisticRegression).\n",
    "\n",
    "Нет сложных ансамблей или нейросетей.\n",
    "\n",
    "Быстрая реализация\n",
    "\n",
    "Можно быстро обучить даже на 15 млн строк.\n",
    "\n",
    "Точка отсчёта\n",
    "\n",
    "Если более сложные модели (CatBoost, XGBoost, нейросети) дают AUC хуже или ненамного лучше — возможно, задача сложная или данные плохие.\n"
   ]
  },
  {
   "cell_type": "markdown",
   "id": "5d5b5ec7",
   "metadata": {},
   "source": [
    "## Baseline"
   ]
  },
  {
   "cell_type": "code",
   "execution_count": 7,
   "id": "a2543878",
   "metadata": {},
   "outputs": [
    {
     "name": "stdout",
     "output_type": "stream",
     "text": [
      "Baseline AUC: 0.664\n"
     ]
    }
   ],
   "source": [
    "# категориальные и числовые\n",
    "cat_cols = ['utm_medium', 'month', 'part_of_day', 'city_group',\n",
    "            'Device', 'utm_source_group', 'keyword_group', 'campaign_group']\n",
    "num_cols = ['hit_number', 'visit_number']\n",
    "\n",
    "baseline_pipe = Pipeline([\n",
    "    ('prep', ColumnTransformer([\n",
    "        ('cat', OneHotEncoder(handle_unknown='ignore'), cat_cols),\n",
    "        ('num', StandardScaler(), num_cols)\n",
    "    ])),\n",
    "    ('clf', LogisticRegression(max_iter=1000))\n",
    "])\n",
    "\n",
    "baseline_pipe.fit(X_train, y_train)\n",
    "auc_base = roc_auc_score(y_test, baseline_pipe.predict_proba(X_test)[:, 1])\n",
    "print('Baseline AUC:', round(auc_base, 3))"
   ]
  },
  {
   "cell_type": "markdown",
   "id": "758d031b",
   "metadata": {},
   "source": [
    "Очень хорошая точность. мы достигли 66,4% точности"
   ]
  },
  {
   "cell_type": "markdown",
   "id": "e6968b5d",
   "metadata": {},
   "source": [
    "## CatBoostClassifier\n",
    "\n",
    "baseline_pipe — хорошая отправная точка, но есть много способов улучшить качество модели попробуем:\n",
    "\n",
    "✅ Заменить OneHotEncoder на TargetEncoding.\n",
    "\n",
    "✅ Попробовать CatBoost/XGBoost вместо логистической регрессии.\n"
   ]
  },
  {
   "cell_type": "code",
   "execution_count": 9,
   "id": "9a97635d",
   "metadata": {},
   "outputs": [
    {
     "name": "stdout",
     "output_type": "stream",
     "text": [
      "CatBoostClassifier AUC: 0.759\n"
     ]
    }
   ],
   "source": [
    "from catboost import CatBoostClassifier\n",
    "from category_encoders import TargetEncoder\n",
    "Cat_pipe = Pipeline([\n",
    "    ('prep', ColumnTransformer([\n",
    "        ('cat', TargetEncoder(), cat_cols),\n",
    "        ('num', StandardScaler(), num_cols)\n",
    "    ])),\n",
    "    ('clf', CatBoostClassifier(\n",
    "        task_type='GPU', \n",
    "        n_estimators=100, \n",
    "        max_depth=10,\n",
    "        verbose=False))\n",
    "])\n",
    "\n",
    "Cat_pipe.fit(X_train, y_train)\n",
    "auc_Cat = roc_auc_score(y_test, Cat_pipe.predict_proba(X_test)[:, 1])\n",
    "print('CatBoostClassifier AUC:', round(auc_Cat, 3))"
   ]
  },
  {
   "cell_type": "markdown",
   "id": "87782d31",
   "metadata": {},
   "source": [
    "CatBoostClassifier точность достигла 75.9 процентов, что является очень хорошим результатом"
   ]
  },
  {
   "cell_type": "markdown",
   "id": "8d9209a9",
   "metadata": {},
   "source": [
    "## Случайный лес"
   ]
  },
  {
   "cell_type": "code",
   "execution_count": 25,
   "id": "c37a1016",
   "metadata": {},
   "outputs": [
    {
     "name": "stdout",
     "output_type": "stream",
     "text": [
      "Random Forest AUC: 0.724\n"
     ]
    }
   ],
   "source": [
    "from sklearn.preprocessing import OrdinalEncoder\n",
    "from sklearn.ensemble import RandomForestClassifier\n",
    "# попробуем случайный лес\n",
    "pipe_RF= Pipeline([\n",
    "    ('prep', ColumnTransformer([\n",
    "        ('cat', OrdinalEncoder(handle_unknown='use_encoded_value', unknown_value=-1), cat_cols),\n",
    "        ('num', StandardScaler(), num_cols)\n",
    "    ])),\n",
    "    ('clf', RandomForestClassifier(n_estimators=100, max_depth=5, random_state=42))\n",
    "])\n",
    "pipe_RF.fit(X_train, y_train)\n",
    "auc_RF = roc_auc_score(y_test, pipe_RF.predict_proba(X_test)[:, 1])\n",
    "print('Random Forest AUC:', round(auc_RF, 3))"
   ]
  },
  {
   "cell_type": "markdown",
   "id": "4056e415",
   "metadata": {},
   "source": [
    "Модель выдала 72.5% точности, что тоже хорошо"
   ]
  },
  {
   "cell_type": "markdown",
   "id": "04a05b67",
   "metadata": {},
   "source": [
    "## XGBoost \n",
    "(Экстремальный градиентный бустинг)\n",
    "\n",
    "XGBoost — это оптимизированная версия градиентного бустинга, которая часто показывает высокую производительность.\n",
    "\n",
    "Преимущества: Высокая производительность, устойчивость к переобучению, автоматическая обработка непрерывных и категориальных признаков."
   ]
  },
  {
   "cell_type": "code",
   "execution_count": 8,
   "id": "9640720e",
   "metadata": {},
   "outputs": [
    {
     "name": "stdout",
     "output_type": "stream",
     "text": [
      "XGBoost AUC: 0.779\n"
     ]
    }
   ],
   "source": [
    "import xgboost as xgb\n",
    "from sklearn.preprocessing import OneHotEncoder\n",
    "from sklearn.compose import ColumnTransformer\n",
    "\n",
    "# категориальные и числовые уже ранее делал, но продублирую\n",
    "cat_cols = ['utm_medium', 'month', 'part_of_day', 'city_group',\n",
    "            'Device', 'utm_source_group', 'keyword_group', 'campaign_group']\n",
    "num_cols = ['hit_number', 'visit_number']\n",
    "# One-Hot Encoding для категориальных признаков\n",
    "preprocessor = ColumnTransformer(\n",
    "    transformers=[\n",
    "        ('cat', OneHotEncoder(handle_unknown='ignore'), cat_cols)\n",
    "    ],\n",
    "    remainder='passthrough'  # оставляем числовые признаки без изменений\n",
    ")\n",
    "\n",
    "# Создаем pipeline\n",
    "pipe_XGBoost = Pipeline([\n",
    "    ('prep', preprocessor),\n",
    "    ('clf', xgb.XGBClassifier(n_estimators=200, tree_method='gpu_hist', random_state=42))\n",
    "])\n",
    "\n",
    "# Обучаем модель\n",
    "pipe_XGBoost.fit(X_train, y_train)\n",
    "\n",
    "# Оцениваем качество\n",
    "y_pred = pipe_XGBoost.predict_proba(X_test)[:, 1]\n",
    "auc = roc_auc_score(y_test, y_pred)\n",
    "print('XGBoost AUC:', round(auc, 3))"
   ]
  },
  {
   "cell_type": "markdown",
   "id": "18bb6f15",
   "metadata": {},
   "source": [
    "выдало 77,9% при n_estimators=200\n"
   ]
  },
  {
   "cell_type": "code",
   "execution_count": 9,
   "id": "efb87dca",
   "metadata": {},
   "outputs": [
    {
     "name": "stdout",
     "output_type": "stream",
     "text": [
      "XGBoost AUC: 0.799\n"
     ]
    }
   ],
   "source": [
    "#пробуем увеличить \n",
    "pipe_XGBoost_v2 = Pipeline([\n",
    "    ('prep', preprocessor),\n",
    "    ('clf', xgb.XGBClassifier(n_estimators=200, tree_method='gpu_hist', max_depth=10, random_state=42))\n",
    "])\n",
    "# Обучаем модель\n",
    "pipe_XGBoost_v2.fit(X_train, y_train)\n",
    "\n",
    "# Оцениваем качество\n",
    "y_pred = pipe_XGBoost_v2.predict_proba(X_test)[:, 1]\n",
    "auc = roc_auc_score(y_test, y_pred)\n",
    "print('XGBoost AUC:', round(auc, 3))"
   ]
  },
  {
   "cell_type": "code",
   "execution_count": 31,
   "id": "9c4aea09",
   "metadata": {},
   "outputs": [
    {
     "data": {
      "image/png": "[encoded data removed]",
      "text/plain": [
       "<Figure size 800x600 with 1 Axes>"
      ]
     },
     "metadata": {},
     "output_type": "display_data"
    }
   ],
   "source": [
    "import matplotlib.pyplot as plt\n",
    "import xgboost as xgb\n",
    "\n",
    "# --------------------------------------------------\n",
    "# 1.  Одна строка: имена после One-Hot\n",
    "# --------------------------------------------------\n",
    "feature_names = preprocessor.get_feature_names_out()\n",
    "\n",
    "# --------------------------------------------------\n",
    "# 2.  Важности и сортировка\n",
    "# --------------------------------------------------\n",
    "booster = pipe_XGBoost_v2.named_steps['clf'].get_booster()\n",
    "\n",
    "# важности и их индексы внутри модели\n",
    "imp = booster.get_score(importance_type='weight')\n",
    "indices = np.argsort(list(imp.values()))[::-1]   # индексы по убыванию\n",
    "\n",
    "# --------------------------------------------------\n",
    "# 3.  Индексы -> имена признаков\n",
    "# --------------------------------------------------\n",
    "# индексы внутри модели соответствуют позициям в feature_names\n",
    "top15_idx = indices[:15]\n",
    "top15_names = [feature_names[i] for i in top15_idx]\n",
    "top15_vals  = [list(imp.values())[i] for i in top15_idx]\n",
    "\n",
    "# --------------------------------------------------\n",
    "# 4.  Рисуем вручную\n",
    "# --------------------------------------------------\n",
    "plt.figure(figsize=(8, 6))\n",
    "plt.barh(top15_names[::-1], top15_vals[::-1])\n",
    "plt.xlabel('Weight')\n",
    "plt.title('Top 15 XGBoost features')\n",
    "plt.tight_layout()\n",
    "plt.show()"
   ]
  },
  {
   "cell_type": "markdown",
   "id": "f1fcf1e3",
   "metadata": {},
   "source": [
    "Самый важный параметр это remainder__hit_number, порядковый номер события в рамках сессии. Чем больше действий сделал пользователь уже на сайте, тем вероятнее он решится на целевое действие, бронирование, заказ машины, обратиться за выдачей кредита.\n",
    "Второй по важности параметр remainder__visit_number, порядковый номер визита клиента, в который раз пользователь заходит на сайт, тут та же логика, чем чаще клиент интересуется, с тем большей вероятностью это целевой клиент\n",
    "Далее идут cat__part_of_day_day, если пользователь зашел днем, он более склонен к целевым действиям чем в остальное время суток, cat__city_group_Moscow, говорит о том, что жители Москвы, чаще других решаются на оформление подписки Сбер Автоподписка. Так же, клиенты заходящие с персонального компьютера, тоже чаще оказываются целевыми клиентами."
   ]
  },
  {
   "cell_type": "markdown",
   "id": "68c20a8e",
   "metadata": {},
   "source": [
    "## Подбор гиперпараметров с Optuna"
   ]
  },
  {
   "cell_type": "code",
   "execution_count": 32,
   "id": "d8c6fe1b",
   "metadata": {},
   "outputs": [],
   "source": [
    "import optuna\n",
    "from sklearn.pipeline import Pipeline\n",
    "from sklearn.compose import ColumnTransformer\n",
    "from sklearn.preprocessing import OneHotEncoder\n",
    "from sklearn.metrics import roc_auc_score\n",
    "from xgboost import XGBClassifier\n",
    "from sklearn.model_selection import train_test_split\n",
    "\n",
    "# Ваши данные и колонки\n",
    "cat_cols = ['utm_medium', 'month', 'part_of_day', 'city_group',\n",
    "            'Device', 'utm_source_group', 'keyword_group', 'campaign_group']\n",
    "num_cols = ['hit_number', 'visit_number']\n",
    "\n",
    "# Препроцессор\n",
    "preprocessor = ColumnTransformer(\n",
    "    transformers=[\n",
    "        ('cat', OneHotEncoder(handle_unknown='ignore', sparse_output=False), cat_cols)\n",
    "    ],\n",
    "    remainder='passthrough'\n",
    ")\n",
    "\n",
    "# Функция для Optuna\n",
    "def objective(trial):\n",
    "    # Только ключевые параметры, влияющие на качество и скорость\n",
    "    params = {\n",
    "        'n_estimators': trial.suggest_int('n_estimators', 100, 300),      # меньше, чем 500\n",
    "        'max_depth': trial.suggest_int('max_depth', 5, 15),               # умеренная глубина\n",
    "        'learning_rate': trial.suggest_float('learning_rate', 0.05, 0.2), # не слишком маленькая\n",
    "        'subsample': trial.suggest_float('subsample', 0.7, 1.0),\n",
    "        'colsample_bytree': trial.suggest_float('colsample_bytree', 0.7, 1.0),\n",
    "        'tree_method': 'gpu_hist',  # или 'hist' если нет GPU\n",
    "        'random_state': 42,\n",
    "        'eval_metric': 'logloss'\n",
    "    }\n",
    "\n",
    "    # Пайплайн\n",
    "    model = Pipeline([\n",
    "        ('prep', preprocessor),\n",
    "        ('clf', XGBClassifier(**params))\n",
    "    ])\n",
    "\n",
    "    # Разделяем X_train на train + valid для честной оценки\n",
    "    X_train_part, X_valid, y_train_part, y_valid = train_test_split(\n",
    "        X_train, y_train, test_size=0.2, random_state=trial.number, stratify=y_train\n",
    "    )\n",
    "\n",
    "    # Обучаем \n",
    "    model.fit(X_train_part, y_train_part)\n",
    "\n",
    "    # Предсказание и AUC\n",
    "    y_pred = model.predict_proba(X_valid)[:, 1]\n",
    "    auc = roc_auc_score(y_valid, y_pred)\n",
    "    return auc"
   ]
  },
  {
   "cell_type": "code",
   "execution_count": 33,
   "id": "9b1508c4",
   "metadata": {},
   "outputs": [
    {
     "name": "stderr",
     "output_type": "stream",
     "text": [
      "[I 2025-07-28 16:31:16,502] A new study created in memory with name: xgb_fast_tune\n",
      "[I 2025-07-28 16:32:57,953] Trial 0 finished with value: 0.7969429802963675 and parameters: {'n_estimators': 297, 'max_depth': 10, 'learning_rate': 0.18411532517690793, 'subsample': 0.8623721805365727, 'colsample_bytree': 0.7581181892397127}. Best is trial 0 with value: 0.7969429802963675.\n",
      "[I 2025-07-28 16:33:51,697] Trial 1 finished with value: 0.7825076866238571 and parameters: {'n_estimators': 102, 'max_depth': 7, 'learning_rate': 0.18016420716054837, 'subsample': 0.7378802658110191, 'colsample_bytree': 0.9812838695370787}. Best is trial 0 with value: 0.7969429802963675.\n",
      "[I 2025-07-28 16:34:52,986] Trial 2 finished with value: 0.7933384322587925 and parameters: {'n_estimators': 102, 'max_depth': 10, 'learning_rate': 0.17098382946797935, 'subsample': 0.927730971384777, 'colsample_bytree': 0.8923091586931372}. Best is trial 0 with value: 0.7969429802963675.\n",
      "[I 2025-07-28 16:36:53,286] Trial 3 finished with value: 0.7977119209434987 and parameters: {'n_estimators': 235, 'max_depth': 15, 'learning_rate': 0.16836549393548791, 'subsample': 0.9974919853830757, 'colsample_bytree': 0.8621379541511005}. Best is trial 3 with value: 0.7977119209434987.\n",
      "[I 2025-07-28 16:38:50,935] Trial 4 finished with value: 0.8008914362895669 and parameters: {'n_estimators': 260, 'max_depth': 13, 'learning_rate': 0.161001635461292, 'subsample': 0.7918080244478388, 'colsample_bytree': 0.8960891817337548}. Best is trial 4 with value: 0.8008914362895669.\n",
      "[I 2025-07-28 16:40:14,252] Trial 5 finished with value: 0.8004119935672102 and parameters: {'n_estimators': 120, 'max_depth': 15, 'learning_rate': 0.11865221418095989, 'subsample': 0.7888093787092543, 'colsample_bytree': 0.8285002384975402}. Best is trial 4 with value: 0.8008914362895669.\n",
      "[I 2025-07-28 16:41:15,254] Trial 6 finished with value: 0.7752811892238622 and parameters: {'n_estimators': 150, 'max_depth': 6, 'learning_rate': 0.14321995579380026, 'subsample': 0.7819379979179084, 'colsample_bytree': 0.7785384835194021}. Best is trial 4 with value: 0.8008914362895669.\n",
      "[I 2025-07-28 16:43:30,111] Trial 7 finished with value: 0.7961657679851949 and parameters: {'n_estimators': 247, 'max_depth': 15, 'learning_rate': 0.11600360980116904, 'subsample': 0.7002336202566091, 'colsample_bytree': 0.9026329524312525}. Best is trial 4 with value: 0.8008914362895669.\n",
      "[I 2025-07-28 16:45:15,908] Trial 8 finished with value: 0.7910371549535681 and parameters: {'n_estimators': 264, 'max_depth': 9, 'learning_rate': 0.18766200197066774, 'subsample': 0.8131313928318944, 'colsample_bytree': 0.7465563211843128}. Best is trial 4 with value: 0.8008914362895669.\n",
      "[I 2025-07-28 16:47:28,660] Trial 9 finished with value: 0.793039724904668 and parameters: {'n_estimators': 255, 'max_depth': 9, 'learning_rate': 0.06605616059778813, 'subsample': 0.8278691811931551, 'colsample_bytree': 0.7638695811880188}. Best is trial 4 with value: 0.8008914362895669.\n",
      "[I 2025-07-28 16:49:20,254] Trial 10 finished with value: 0.799671652564538 and parameters: {'n_estimators': 192, 'max_depth': 12, 'learning_rate': 0.07867066015129608, 'subsample': 0.8779398383485748, 'colsample_bytree': 0.9916702573791952}. Best is trial 4 with value: 0.8008914362895669.\n",
      "[I 2025-07-28 16:51:11,659] Trial 11 finished with value: 0.8031984635328332 and parameters: {'n_estimators': 179, 'max_depth': 13, 'learning_rate': 0.11948338941227474, 'subsample': 0.7720290374840596, 'colsample_bytree': 0.8268774487931492}. Best is trial 11 with value: 0.8031984635328332.\n",
      "[I 2025-07-28 16:53:00,440] Trial 12 finished with value: 0.7997977661418078 and parameters: {'n_estimators': 190, 'max_depth': 13, 'learning_rate': 0.14197410699776644, 'subsample': 0.7479071361062172, 'colsample_bytree': 0.9272366948230393}. Best is trial 11 with value: 0.8031984635328332.\n",
      "[I 2025-07-28 16:54:20,562] Trial 13 finished with value: 0.8016058381124521 and parameters: {'n_estimators': 159, 'max_depth': 12, 'learning_rate': 0.1008327430025062, 'subsample': 0.7539345458178125, 'colsample_bytree': 0.8199629320451651}. Best is trial 11 with value: 0.8031984635328332.\n",
      "[I 2025-07-28 16:55:42,352] Trial 14 finished with value: 0.7963506370395792 and parameters: {'n_estimators': 159, 'max_depth': 12, 'learning_rate': 0.09696097013949022, 'subsample': 0.7008168508027407, 'colsample_bytree': 0.7027405907092519}. Best is trial 11 with value: 0.8031984635328332.\n",
      "[I 2025-07-28 16:57:14,570] Trial 15 finished with value: 0.7999123983304788 and parameters: {'n_estimators': 158, 'max_depth': 13, 'learning_rate': 0.09187780496195583, 'subsample': 0.7487419011569902, 'colsample_bytree': 0.8142400784833738}. Best is trial 11 with value: 0.8031984635328332.\n",
      "[I 2025-07-28 16:58:43,974] Trial 16 finished with value: 0.7942674693903593 and parameters: {'n_estimators': 177, 'max_depth': 11, 'learning_rate': 0.0515577651437, 'subsample': 0.8940665552813802, 'colsample_bytree': 0.823336988358101}. Best is trial 11 with value: 0.8031984635328332.\n",
      "[I 2025-07-28 17:00:51,412] Trial 17 finished with value: 0.8017694987818346 and parameters: {'n_estimators': 221, 'max_depth': 14, 'learning_rate': 0.1033916921577065, 'subsample': 0.7588909455164351, 'colsample_bytree': 0.8592576087826812}. Best is trial 11 with value: 0.8031984635328332.\n",
      "[I 2025-07-28 17:02:48,162] Trial 18 finished with value: 0.8039083234799232 and parameters: {'n_estimators': 219, 'max_depth': 14, 'learning_rate': 0.13949779154768963, 'subsample': 0.839823467656555, 'colsample_bytree': 0.9481040493451176}. Best is trial 18 with value: 0.8039083234799232.\n"
     ]
    },
    {
     "name": "stdout",
     "output_type": "stream",
     "text": [
      "Лучшие параметры: {'n_estimators': 219, 'max_depth': 14, 'learning_rate': 0.13949779154768963, 'subsample': 0.839823467656555, 'colsample_bytree': 0.9481040493451176}\n",
      "Лучший AUC (на валидации): 0.8039083234799232\n"
     ]
    }
   ],
   "source": [
    "# Создаём study\n",
    "study = optuna.create_study(direction='maximize', study_name='xgb_fast_tune')\n",
    "\n",
    "# Запускаем: 20 trials (~1–1.5 мин на trial)\n",
    "study.optimize(objective, n_trials=30, timeout=1800)  # максимум 30 минут\n",
    "\n",
    "# Результат\n",
    "print(\"Лучшие параметры:\", study.best_params)\n",
    "print(\"Лучший AUC (на валидации):\", study.best_value)"
   ]
  },
  {
   "cell_type": "code",
   "execution_count": 34,
   "id": "81be3de2",
   "metadata": {},
   "outputs": [
    {
     "name": "stdout",
     "output_type": "stream",
     "text": [
      "Финальный XGBoost AUC на тесте: 0.81\n"
     ]
    }
   ],
   "source": [
    "# Собираем лучшую модель и обучаем на ВСЕМ X_train\n",
    "best_params = study.best_params\n",
    "\n",
    "final_model_XGBoost = Pipeline([\n",
    "    ('prep', preprocessor),\n",
    "    ('clf', XGBClassifier(**best_params, tree_method='gpu_hist', random_state=42))\n",
    "])\n",
    "\n",
    "# Обучаем на всех данных\n",
    "final_model_XGBoost.fit(X_train, y_train)\n",
    "\n",
    "# Оценка на тесте\n",
    "y_test_pred = final_model_XGBoost.predict_proba(X_test)[:, 1]\n",
    "final_auc = roc_auc_score(y_test, y_test_pred)\n",
    "\n",
    "print('Финальный XGBoost AUC на тесте:', round(final_auc, 3))"
   ]
  },
  {
   "cell_type": "code",
   "execution_count": 35,
   "id": "391dbf2b",
   "metadata": {},
   "outputs": [
    {
     "data": {
      "application/vnd.plotly.v1+json": {
       "config": {
        "plotlyServerURL": "https://plot.ly"
       },
       "data": [
        {
         "mode": "markers",
         "name": "Objective Value",
         "type": "scatter",
         "x": [
          0,
          1,
          2,
          3,
          4,
          5,
          6,
          7,
          8,
          9,
          10,
          11,
          12,
          13,
          14,
          15,
          16,
          17,
          18
         ],
         "y": [
          0.7969429802963675,
          0.7825076866238571,
          0.7933384322587925,
          0.7977119209434987,
          0.8008914362895669,
          0.8004119935672102,
          0.7752811892238622,
          0.7961657679851949,
          0.7910371549535681,
          0.793039724904668,
          0.799671652564538,
          0.8031984635328332,
          0.7997977661418078,
          0.8016058381124521,
          0.7963506370395792,
          0.7999123983304788,
          0.7942674693903593,
          0.8017694987818346,
          0.8039083234799232
         ]
        },
        {
         "mode": "lines",
         "name": "Best Value",
         "type": "scatter",
         "x": [
          0,
          1,
          2,
          3,
          4,
          5,
          6,
          7,
          8,
          9,
          10,
          11,
          12,
          13,
          14,
          15,
          16,
          17,
          18
         ],
         "y": [
          0.7969429802963675,
          0.7969429802963675,
          0.7969429802963675,
          0.7977119209434987,
          0.8008914362895669,
          0.8008914362895669,
          0.8008914362895669,
          0.8008914362895669,
          0.8008914362895669,
          0.8008914362895669,
          0.8008914362895669,
          0.8031984635328332,
          0.8031984635328332,
          0.8031984635328332,
          0.8031984635328332,
          0.8031984635328332,
          0.8031984635328332,
          0.8031984635328332,
          0.8039083234799232
         ]
        },
        {
         "marker": {
          "color": "#cccccc"
         },
         "mode": "markers",
         "name": "Infeasible Trial",
         "showlegend": false,
         "type": "scatter",
         "x": [],
         "y": []
        }
       ],
       "layout": {
        "template": {
         "data": {
          "bar": [
           {
            "error_x": {
             "color": "#2a3f5f"
            },
            "error_y": {
             "color": "#2a3f5f"
            },
            "marker": {
             "line": {
              "color": "#E5ECF6",
              "width": 0.5
             },
             "pattern": {
              "fillmode": "overlay",
              "size": 10,
              "solidity": 0.2
             }
            },
            "type": "bar"
           }
          ],
          "barpolar": [
           {
            "marker": {
             "line": {
              "color": "#E5ECF6",
              "width": 0.5
             },
             "pattern": {
              "fillmode": "overlay",
              "size": 10,
              "solidity": 0.2
             }
            },
            "type": "barpolar"
           }
          ],
          "carpet": [
           {
            "aaxis": {
             "endlinecolor": "#2a3f5f",
             "gridcolor": "white",
             "linecolor": "white",
             "minorgridcolor": "white",
             "startlinecolor": "#2a3f5f"
            },
            "baxis": {
             "endlinecolor": "#2a3f5f",
             "gridcolor": "white",
             "linecolor": "white",
             "minorgridcolor": "white",
             "startlinecolor": "#2a3f5f"
            },
            "type": "carpet"
           }
          ],
          "choropleth": [
           {
            "colorbar": {
             "outlinewidth": 0,
             "ticks": ""
            },
            "type": "choropleth"
           }
          ],
          "contour": [
           {
            "colorbar": {
             "outlinewidth": 0,
             "ticks": ""
            },
            "colorscale": [
             [
              0,
              "#0d0887"
             ],
             [
              0.1111111111111111,
              "#46039f"
             ],
             [
              0.2222222222222222,
              "#7201a8"
             ],
             [
              0.3333333333333333,
              "#9c179e"
             ],
             [
              0.4444444444444444,
              "#bd3786"
             ],
             [
              0.5555555555555556,
              "#d8576b"
             ],
             [
              0.6666666666666666,
              "#ed7953"
             ],
             [
              0.7777777777777778,
              "#fb9f3a"
             ],
             [
              0.8888888888888888,
              "#fdca26"
             ],
             [
              1,
              "#f0f921"
             ]
            ],
            "type": "contour"
           }
          ],
          "contourcarpet": [
           {
            "colorbar": {
             "outlinewidth": 0,
             "ticks": ""
            },
            "type": "contourcarpet"
           }
          ],
          "heatmap": [
           {
            "colorbar": {
             "outlinewidth": 0,
             "ticks": ""
            },
            "colorscale": [
             [
              0,
              "#0d0887"
             ],
             [
              0.1111111111111111,
              "#46039f"
             ],
             [
              0.2222222222222222,
              "#7201a8"
             ],
             [
              0.3333333333333333,
              "#9c179e"
             ],
             [
              0.4444444444444444,
              "#bd3786"
             ],
             [
              0.5555555555555556,
              "#d8576b"
             ],
             [
              0.6666666666666666,
              "#ed7953"
             ],
             [
              0.7777777777777778,
              "#fb9f3a"
             ],
             [
              0.8888888888888888,
              "#fdca26"
             ],
             [
              1,
              "#f0f921"
             ]
            ],
            "type": "heatmap"
           }
          ],
          "histogram": [
           {
            "marker": {
             "pattern": {
              "fillmode": "overlay",
              "size": 10,
              "solidity": 0.2
             }
            },
            "type": "histogram"
           }
          ],
          "histogram2d": [
           {
            "colorbar": {
             "outlinewidth": 0,
             "ticks": ""
            },
            "colorscale": [
             [
              0,
              "#0d0887"
             ],
             [
              0.1111111111111111,
              "#46039f"
             ],
             [
              0.2222222222222222,
              "#7201a8"
             ],
             [
              0.3333333333333333,
              "#9c179e"
             ],
             [
              0.4444444444444444,
              "#bd3786"
             ],
             [
              0.5555555555555556,
              "#d8576b"
             ],
             [
              0.6666666666666666,
              "#ed7953"
             ],
             [
              0.7777777777777778,
              "#fb9f3a"
             ],
             [
              0.8888888888888888,
              "#fdca26"
             ],
             [
              1,
              "#f0f921"
             ]
            ],
            "type": "histogram2d"
           }
          ],
          "histogram2dcontour": [
           {
            "colorbar": {
             "outlinewidth": 0,
             "ticks": ""
            },
            "colorscale": [
             [
              0,
              "#0d0887"
             ],
             [
              0.1111111111111111,
              "#46039f"
             ],
             [
              0.2222222222222222,
              "#7201a8"
             ],
             [
              0.3333333333333333,
              "#9c179e"
             ],
             [
              0.4444444444444444,
              "#bd3786"
             ],
             [
              0.5555555555555556,
              "#d8576b"
             ],
             [
              0.6666666666666666,
              "#ed7953"
             ],
             [
              0.7777777777777778,
              "#fb9f3a"
             ],
             [
              0.8888888888888888,
              "#fdca26"
             ],
             [
              1,
              "#f0f921"
             ]
            ],
            "type": "histogram2dcontour"
           }
          ],
          "mesh3d": [
           {
            "colorbar": {
             "outlinewidth": 0,
             "ticks": ""
            },
            "type": "mesh3d"
           }
          ],
          "parcoords": [
           {
            "line": {
             "colorbar": {
              "outlinewidth": 0,
              "ticks": ""
             }
            },
            "type": "parcoords"
           }
          ],
          "pie": [
           {
            "automargin": true,
            "type": "pie"
           }
          ],
          "scatter": [
           {
            "fillpattern": {
             "fillmode": "overlay",
             "size": 10,
             "solidity": 0.2
            },
            "type": "scatter"
           }
          ],
          "scatter3d": [
           {
            "line": {
             "colorbar": {
              "outlinewidth": 0,
              "ticks": ""
             }
            },
            "marker": {
             "colorbar": {
              "outlinewidth": 0,
              "ticks": ""
             }
            },
            "type": "scatter3d"
           }
          ],
          "scattercarpet": [
           {
            "marker": {
             "colorbar": {
              "outlinewidth": 0,
              "ticks": ""
             }
            },
            "type": "scattercarpet"
           }
          ],
          "scattergeo": [
           {
            "marker": {
             "colorbar": {
              "outlinewidth": 0,
              "ticks": ""
             }
            },
            "type": "scattergeo"
           }
          ],
          "scattergl": [
           {
            "marker": {
             "colorbar": {
              "outlinewidth": 0,
              "ticks": ""
             }
            },
            "type": "scattergl"
           }
          ],
          "scattermap": [
           {
            "marker": {
             "colorbar": {
              "outlinewidth": 0,
              "ticks": ""
             }
            },
            "type": "scattermap"
           }
          ],
          "scattermapbox": [
           {
            "marker": {
             "colorbar": {
              "outlinewidth": 0,
              "ticks": ""
             }
            },
            "type": "scattermapbox"
           }
          ],
          "scatterpolar": [
           {
            "marker": {
             "colorbar": {
              "outlinewidth": 0,
              "ticks": ""
             }
            },
            "type": "scatterpolar"
           }
          ],
          "scatterpolargl": [
           {
            "marker": {
             "colorbar": {
              "outlinewidth": 0,
              "ticks": ""
             }
            },
            "type": "scatterpolargl"
           }
          ],
          "scatterternary": [
           {
            "marker": {
             "colorbar": {
              "outlinewidth": 0,
              "ticks": ""
             }
            },
            "type": "scatterternary"
           }
          ],
          "surface": [
           {
            "colorbar": {
             "outlinewidth": 0,
             "ticks": ""
            },
            "colorscale": [
             [
              0,
              "#0d0887"
             ],
             [
              0.1111111111111111,
              "#46039f"
             ],
             [
              0.2222222222222222,
              "#7201a8"
             ],
             [
              0.3333333333333333,
              "#9c179e"
             ],
             [
              0.4444444444444444,
              "#bd3786"
             ],
             [
              0.5555555555555556,
              "#d8576b"
             ],
             [
              0.6666666666666666,
              "#ed7953"
             ],
             [
              0.7777777777777778,
              "#fb9f3a"
             ],
             [
              0.8888888888888888,
              "#fdca26"
             ],
             [
              1,
              "#f0f921"
             ]
            ],
            "type": "surface"
           }
          ],
          "table": [
           {
            "cells": {
             "fill": {
              "color": "#EBF0F8"
             },
             "line": {
              "color": "white"
             }
            },
            "header": {
             "fill": {
              "color": "#C8D4E3"
             },
             "line": {
              "color": "white"
             }
            },
            "type": "table"
           }
          ]
         },
         "layout": {
          "annotationdefaults": {
           "arrowcolor": "#2a3f5f",
           "arrowhead": 0,
           "arrowwidth": 1
          },
          "autotypenumbers": "strict",
          "coloraxis": {
           "colorbar": {
            "outlinewidth": 0,
            "ticks": ""
           }
          },
          "colorscale": {
           "diverging": [
            [
             0,
             "#8e0152"
            ],
            [
             0.1,
             "#c51b7d"
            ],
            [
             0.2,
             "#de77ae"
            ],
            [
             0.3,
             "#f1b6da"
            ],
            [
             0.4,
             "#fde0ef"
            ],
            [
             0.5,
             "#f7f7f7"
            ],
            [
             0.6,
             "#e6f5d0"
            ],
            [
             0.7,
             "#b8e186"
            ],
            [
             0.8,
             "#7fbc41"
            ],
            [
             0.9,
             "#4d9221"
            ],
            [
             1,
             "#276419"
            ]
           ],
           "sequential": [
            [
             0,
             "#0d0887"
            ],
            [
             0.1111111111111111,
             "#46039f"
            ],
            [
             0.2222222222222222,
             "#7201a8"
            ],
            [
             0.3333333333333333,
             "#9c179e"
            ],
            [
             0.4444444444444444,
             "#bd3786"
            ],
            [
             0.5555555555555556,
             "#d8576b"
            ],
            [
             0.6666666666666666,
             "#ed7953"
            ],
            [
             0.7777777777777778,
             "#fb9f3a"
            ],
            [
             0.8888888888888888,
             "#fdca26"
            ],
            [
             1,
             "#f0f921"
            ]
           ],
           "sequentialminus": [
            [
             0,
             "#0d0887"
            ],
            [
             0.1111111111111111,
             "#46039f"
            ],
            [
             0.2222222222222222,
             "#7201a8"
            ],
            [
             0.3333333333333333,
             "#9c179e"
            ],
            [
             0.4444444444444444,
             "#bd3786"
            ],
            [
             0.5555555555555556,
             "#d8576b"
            ],
            [
             0.6666666666666666,
             "#ed7953"
            ],
            [
             0.7777777777777778,
             "#fb9f3a"
            ],
            [
             0.8888888888888888,
             "#fdca26"
            ],
            [
             1,
             "#f0f921"
            ]
           ]
          },
          "colorway": [
           "#636efa",
           "#EF553B",
           "#00cc96",
           "#ab63fa",
           "#FFA15A",
           "#19d3f3",
           "#FF6692",
           "#B6E880",
           "#FF97FF",
           "#FECB52"
          ],
          "font": {
           "color": "#2a3f5f"
          },
          "geo": {
           "bgcolor": "white",
           "lakecolor": "white",
           "landcolor": "#E5ECF6",
           "showlakes": true,
           "showland": true,
           "subunitcolor": "white"
          },
          "hoverlabel": {
           "align": "left"
          },
          "hovermode": "closest",
          "mapbox": {
           "style": "light"
          },
          "paper_bgcolor": "white",
          "plot_bgcolor": "#E5ECF6",
          "polar": {
           "angularaxis": {
            "gridcolor": "white",
            "linecolor": "white",
            "ticks": ""
           },
           "bgcolor": "#E5ECF6",
           "radialaxis": {
            "gridcolor": "white",
            "linecolor": "white",
            "ticks": ""
           }
          },
          "scene": {
           "xaxis": {
            "backgroundcolor": "#E5ECF6",
            "gridcolor": "white",
            "gridwidth": 2,
            "linecolor": "white",
            "showbackground": true,
            "ticks": "",
            "zerolinecolor": "white"
           },
           "yaxis": {
            "backgroundcolor": "#E5ECF6",
            "gridcolor": "white",
            "gridwidth": 2,
            "linecolor": "white",
            "showbackground": true,
            "ticks": "",
            "zerolinecolor": "white"
           },
           "zaxis": {
            "backgroundcolor": "#E5ECF6",
            "gridcolor": "white",
            "gridwidth": 2,
            "linecolor": "white",
            "showbackground": true,
            "ticks": "",
            "zerolinecolor": "white"
           }
          },
          "shapedefaults": {
           "line": {
            "color": "#2a3f5f"
           }
          },
          "ternary": {
           "aaxis": {
            "gridcolor": "white",
            "linecolor": "white",
            "ticks": ""
           },
           "baxis": {
            "gridcolor": "white",
            "linecolor": "white",
            "ticks": ""
           },
           "bgcolor": "#E5ECF6",
           "caxis": {
            "gridcolor": "white",
            "linecolor": "white",
            "ticks": ""
           }
          },
          "title": {
           "x": 0.05
          },
          "xaxis": {
           "automargin": true,
           "gridcolor": "white",
           "linecolor": "white",
           "ticks": "",
           "title": {
            "standoff": 15
           },
           "zerolinecolor": "white",
           "zerolinewidth": 2
          },
          "yaxis": {
           "automargin": true,
           "gridcolor": "white",
           "linecolor": "white",
           "ticks": "",
           "title": {
            "standoff": 15
           },
           "zerolinecolor": "white",
           "zerolinewidth": 2
          }
         }
        },
        "title": {
         "text": "Optimization History Plot"
        },
        "xaxis": {
         "title": {
          "text": "Trial"
         }
        },
        "yaxis": {
         "title": {
          "text": "Objective Value"
         }
        }
       }
      }
     },
     "metadata": {},
     "output_type": "display_data"
    }
   ],
   "source": [
    "import matplotlib.pyplot as plt\n",
    "import seaborn as sns\n",
    "from sklearn.metrics import roc_curve, auc, confusion_matrix, classification_report\n",
    "import optuna\n",
    "\n",
    "\n",
    "# Предсказания (если ещё не сделаны)\n",
    "y_test_pred_proba = final_model_XGBoost.predict_proba(X_test)[:, 1]  # вероятности\n",
    "y_test_pred_class = (y_test_pred_proba > 0.5).astype(int)   # бинарные предсказания\n",
    "\n",
    "# График улучшения AUC по мере поиска\n",
    "optuna.visualization.plot_optimization_history(study).show()"
   ]
  },
  {
   "cell_type": "code",
   "execution_count": 37,
   "id": "11eacc18",
   "metadata": {},
   "outputs": [
    {
     "data": {
      "image/png": "[encoded data removed]",
      "text/plain": [
       "<Figure size 1500x600 with 3 Axes>"
      ]
     },
     "metadata": {},
     "output_type": "display_data"
    }
   ],
   "source": [
    "import seaborn as sns\n",
    "from sklearn.metrics import roc_curve, auc, f1_score, accuracy_score, confusion_matrix, classification_report\n",
    "\n",
    "# Предсказания на тесте\n",
    "y_test_pred_proba = final_model_XGBoost.predict_proba(X_test)[:, 1]\n",
    "y_test_pred_class = final_model_XGBoost.predict(X_test)\n",
    "\n",
    "# Вычисляем метрики\n",
    "test_auc = roc_auc_score(y_test, y_test_pred_proba)\n",
    "test_f1 = f1_score(y_test, y_test_pred_class)\n",
    "test_acc = accuracy_score(y_test, y_test_pred_class)\n",
    "\n",
    "# ROC кривая\n",
    "fpr, tpr, _ = roc_curve(y_test, y_test_pred_proba)\n",
    "\n",
    "# Confusion Matrix\n",
    "cm = confusion_matrix(y_test, y_test_pred_class)\n",
    "\n",
    "# === Визуализация ===\n",
    "fig, axes = plt.subplots(1, 2, figsize=(15, 6))\n",
    "\n",
    "# Левый график: ROC Curve\n",
    "axes[0].plot(fpr, tpr, color='blue', lw=2, label=f'ROC (AUC = {test_auc:.4f})')\n",
    "axes[0].plot([0, 1], [0, 1], color='gray', lw=1, linestyle='--', label='Random')\n",
    "axes[0].set_xlim([0.0, 1.0])\n",
    "axes[0].set_ylim([0.0, 1.05])\n",
    "axes[0].set_xlabel('False Positive Rate')\n",
    "axes[0].set_ylabel('True Positive Rate')\n",
    "axes[0].set_title('ROC Curve')\n",
    "axes[0].legend(loc=\"lower right\")\n",
    "axes[0].grid(True, alpha=0.3)\n",
    "\n",
    "# Правый график: Confusion Matrix\n",
    "sns.heatmap(cm, annot=True, fmt='d', cmap='Blues', ax=axes[1],\n",
    "            xticklabels=['Class 0', 'Class 1'],\n",
    "            yticklabels=['Class 0', 'Class 1'])\n",
    "axes[1].set_title(f'Confusion Matrix\\nF1-score: {test_f1:.4f}, Accuracy: {test_acc:.4f}')\n",
    "axes[1].set_xlabel('Predicted Label')\n",
    "axes[1].set_ylabel('True Label')\n",
    "\n",
    "# Общий заголовок\n",
    "plt.suptitle('Model Evaluation Results', fontsize=16)\n",
    "\n",
    "# Подписи не налезают\n",
    "plt.tight_layout()\n",
    "\n",
    "# Показать\n",
    "plt.show()"
   ]
  },
  {
   "cell_type": "code",
   "execution_count": 38,
   "id": "12493101",
   "metadata": {},
   "outputs": [
    {
     "data": {
      "image/png": "[encoded data removed]",
      "text/plain": [
       "<Figure size 800x600 with 1 Axes>"
      ]
     },
     "metadata": {},
     "output_type": "display_data"
    }
   ],
   "source": [
    "import matplotlib.pyplot as plt\n",
    "import xgboost as xgb\n",
    "\n",
    "# --------------------------------------------------\n",
    "# 1.  Одна строка: имена после One-Hot\n",
    "# --------------------------------------------------\n",
    "feature_names = preprocessor.get_feature_names_out()\n",
    "\n",
    "# --------------------------------------------------\n",
    "# 2.  Важности и сортировка\n",
    "# --------------------------------------------------\n",
    "booster = final_model_XGBoost.named_steps['clf'].get_booster()\n",
    "\n",
    "# важности и их индексы внутри модели\n",
    "imp = booster.get_score(importance_type='weight')\n",
    "indices = np.argsort(list(imp.values()))[::-1]   # индексы по убыванию\n",
    "\n",
    "# --------------------------------------------------\n",
    "# 3.  Индексы -> имена признаков\n",
    "# --------------------------------------------------\n",
    "# индексы внутри модели соответствуют позициям в feature_names\n",
    "top15_idx = indices[:15]\n",
    "top15_names = [feature_names[i] for i in top15_idx]\n",
    "top15_vals  = [list(imp.values())[i] for i in top15_idx]\n",
    "\n",
    "# --------------------------------------------------\n",
    "# 4.  Рисуем вручную\n",
    "# --------------------------------------------------\n",
    "plt.figure(figsize=(8, 6))\n",
    "plt.barh(top15_names[::-1], top15_vals[::-1])\n",
    "plt.xlabel('Weight')\n",
    "plt.title('Top 15 XGBoost features')\n",
    "plt.tight_layout()\n",
    "plt.show()"
   ]
  },
  {
   "cell_type": "markdown",
   "id": "72954fe4",
   "metadata": {},
   "source": [
    "Лучшие параметры: {'n_estimators': 219, 'max_depth': 14, 'learning_rate': 0.13949779154768963, 'subsample': 0.839823467656555, 'colsample_bytree': 0.9481040493451176}\n",
    "Финальная точность AUC 81%\n",
    "Оставляем final_model_XGBoost модель как приоритетную"
   ]
  },
  {
   "cell_type": "markdown",
   "id": "43ca8e9d",
   "metadata": {},
   "source": [
    "## Многослойный персептрон (MLP) \n",
    "простая нейронная сеть, которая часто показывает хорошие результаты на табличных данных."
   ]
  },
  {
   "cell_type": "code",
   "execution_count": null,
   "id": "f85ea2e4",
   "metadata": {},
   "outputs": [],
   "source": [
    "from sklearn.preprocessing import OneHotEncoder\n",
    "from sklearn.compose import ColumnTransformer\n",
    "\n",
    "# One-Hot Encoding для категориальных признаков\n",
    "preprocessor = ColumnTransformer(\n",
    "    transformers=[\n",
    "        ('cat', OneHotEncoder(handle_unknown='ignore'), cat_cols)\n",
    "    ],\n",
    "    remainder='passthrough'  # оставляем числовые признаки без изменений\n",
    ")\n",
    "\n",
    "# Обрабатываем данные\n",
    "X_train_preprocessed = preprocessor.fit_transform(X_train)\n",
    "X_test_preprocessed = preprocessor.transform(X_test)"
   ]
  },
  {
   "cell_type": "code",
   "execution_count": null,
   "id": "2b1fcf55",
   "metadata": {},
   "outputs": [],
   "source": [
    "import tensorflow as tf\n",
    "from tensorflow.keras import layers, models\n",
    "\n",
    "# Создаем модель\n",
    "model = models.Sequential([\n",
    "    layers.Input(shape=(X_train_preprocessed.shape[1],)),\n",
    "    layers.Dense(128, activation='relu'),\n",
    "    layers.Dropout(0.3),\n",
    "    layers.Dense(64, activation='relu'),\n",
    "    layers.Dropout(0.2),\n",
    "    layers.Dense(1, activation='sigmoid')\n",
    "])\n",
    "\n",
    "# Компилируем модель\n",
    "model.compile(optimizer='adam', loss='binary_crossentropy', metrics=['AUC'])\n",
    "\n",
    "# Обучаем модель\n",
    "model.fit(X_train_preprocessed, y_train, epochs=10, batch_size=512)\n",
    "\n",
    "# Оцениваем качество\n",
    "y_pred = model.predict(X_test_preprocessed).ravel()\n",
    "auc = roc_auc_score(y_test, y_pred)\n",
    "print('MLP AUC:', round(auc, 3))"
   ]
  },
  {
   "cell_type": "markdown",
   "id": "6bf4dfa9",
   "metadata": {},
   "source": [
    "Нейронная модель показала достаточно плохие результаты на учебных данных 0.7046, но на тестовых данных уже лучше 76,6%, выше базовой модели, возможно недостаточно нейронов, и дополнительных слоев, и дополнительное количество эпох обучения."
   ]
  },
  {
   "cell_type": "markdown",
   "id": "0ad3cf9c",
   "metadata": {},
   "source": [
    "## LightGBM\n",
    "это еще один градиентный бустинг, который часто показывает высокую производительность и низкую потребность в ресурсах.\n",
    "Он может быть быстрее и точнее, чем XGBoost, особенно на больших данных."
   ]
  },
  {
   "cell_type": "code",
   "execution_count": 28,
   "id": "808469fb",
   "metadata": {},
   "outputs": [
    {
     "name": "stdout",
     "output_type": "stream",
     "text": [
      "[LightGBM] [Info] Number of positive: 49178, number of negative: 12318327\n",
      "[LightGBM] [Info] Auto-choosing col-wise multi-threading, the overhead of testing was 0.547772 seconds.\n",
      "You can set `force_col_wise=true` to remove the overhead.\n",
      "[LightGBM] [Info] Total Bins 587\n",
      "[LightGBM] [Info] Number of data points in the train set: 12367505, number of used features: 45\n",
      "[LightGBM] [Info] [binary:BoostFromScore]: pavg=0.003976 -> initscore=-5.523397\n",
      "[LightGBM] [Info] Start training from score -5.523397\n",
      "LightGBM AUC: 0.766\n"
     ]
    }
   ],
   "source": [
    "import lightgbm as lgb\n",
    "\n",
    "# Создаем pipeline\n",
    "pipe_LightGBM = Pipeline([\n",
    "    ('prep', preprocessor),\n",
    "    ('clf', lgb.LGBMClassifier(n_estimators=200, random_state=42))\n",
    "])\n",
    "\n",
    "# Обучаем модель\n",
    "pipe_LightGBM.fit(X_train, y_train)\n",
    "\n",
    "# Оцениваем качество\n",
    "y_pred = pipe_LightGBM.predict_proba(X_test)[:, 1]\n",
    "auc = roc_auc_score(y_test, y_pred)\n",
    "print('LightGBM AUC:', round(auc, 3))"
   ]
  },
  {
   "cell_type": "markdown",
   "id": "803fdae3",
   "metadata": {},
   "source": [
    "Модель LightGBM не смогла улучшить результат модели XGBoost, но все равно показала очень достойный результат LightGBM AUC: 0.766"
   ]
  },
  {
   "cell_type": "markdown",
   "id": "5af66f94",
   "metadata": {},
   "source": [
    "## модель Sequential на 3 слоя нейронов"
   ]
  },
  {
   "cell_type": "code",
   "execution_count": null,
   "id": "198902fb",
   "metadata": {},
   "outputs": [],
   "source": [
    "import numpy as np\n",
    "import pandas as pd\n",
    "from sklearn.model_selection import train_test_split\n",
    "from sklearn.preprocessing import StandardScaler\n",
    "import category_encoders as ce\n",
    "from sklearn.metrics import roc_auc_score\n",
    "\n",
    "# Для нейросетей\n",
    "import tensorflow as tf\n",
    "from tensorflow.keras.models import Sequential\n",
    "from tensorflow.keras.layers import Dense, Dropout, BatchNormalization\n",
    "from tensorflow.keras.optimizers import Adam\n",
    "from tensorflow.keras.metrics import AUC\n",
    "from tensorflow.keras.callbacks import EarlyStopping, ReduceLROnPlateau\n",
    "\n",
    "\n",
    "# Предобработка данных\n",
    "# Важно: TargetEncoder обучаем ТОЛЬКО на тренировочных данных\n",
    "enc = ce.TargetEncoder(cols=cat_cols)\n",
    "X_cat_te = enc.fit_transform(X_train[cat_cols], y_train)\n",
    "X_cat_te_test = enc.transform(X_test[cat_cols])\n",
    "\n",
    "scaler = StandardScaler()\n",
    "X_num = scaler.fit_transform(X_train[num_cols])\n",
    "X_num_test = scaler.transform(X_test[num_cols])\n",
    "\n",
    "#  Объединение признаков\n",
    "X_train_nn = np.hstack([X_cat_te, X_num])\n",
    "X_test_nn = np.hstack([X_cat_te_test, X_num_test])\n",
    "\n",
    "#  Создание модели с улучшениями\n",
    "model_nn = Sequential([\n",
    "    # Слой 1: 256 нейронов + BatchNorm для ускорения обучения\n",
    "    Dense(256, activation='relu', input_shape=(X_train_nn.shape[1],)),\n",
    "    BatchNormalization(),  # Стандартизует выход предыдущего слоя\n",
    "    Dropout(0.4),         # Регуляризация - случайно \"выключает\" 40% нейронов\n",
    "    \n",
    "    # Слой 2: 128 нейронов\n",
    "    Dense(128, activation='relu'),\n",
    "    BatchNormalization(),\n",
    "    Dropout(0.3),\n",
    "    # Слой 2: 64 нейронов\n",
    "    Dense(64, activation='relu'),\n",
    "    BatchNormalization(),\n",
    "    Dropout(0.2),\n",
    "    # Выходной слой (бинарная классификация)\n",
    "    Dense(1, activation='sigmoid')\n",
    "])\n",
    "\n",
    "#  Компиляция модели\n",
    "model_nn.compile(\n",
    "    optimizer=Adam(learning_rate=0.001),  # Оптимизатор с начальным lr\n",
    "    loss='binary_crossentropy',            # Функция потерь для бинарной классификации\n",
    "    metrics=[AUC(name='auc')]              # Отслеживаем AUC во время обучения\n",
    ")\n",
    "\n",
    "# Коллбэки для улучшения обучения\n",
    "callbacks = [\n",
    "    # Ранняя остановка при отсутствии улучшений\n",
    "    EarlyStopping(\n",
    "        monitor='val_auc',     # Следим за AUC на валидации\n",
    "        patience=5,            # Ждем 5 эпох без улучшений\n",
    "        mode='max',            # Максимизируем AUC\n",
    "        restore_best_weights=True  # Возвращаем лучшие веса\n",
    "    ),\n",
    "    \n",
    "    # Динамическое уменьшение learning rate\n",
    "    ReduceLROnPlateau(\n",
    "        monitor='val_auc',     # Следим за AUC на валидации\n",
    "        factor=0.5,            # Уменьшаем lr в 2 раза\n",
    "        patience=3,            # Ждем 3 эпохи без улучшений\n",
    "        min_lr=1e-6,           # Минимальный learning rate\n",
    "        verbose=1              # Выводим сообщения об изменении lr\n",
    "    )\n",
    "]\n",
    "\n",
    "# Обработка дисбаланса классов (если нужно)\n",
    "# Рассчитываем веса классов\n",
    "class_counts = np.bincount(y_train)\n",
    "total_samples = len(y_train)\n",
    "weight_for_0 = total_samples / (2 * class_counts[0])  # Вес для класса 0\n",
    "weight_for_1 = total_samples / (2 * class_counts[1])  # Вес для класса 1\n",
    "class_weights = {0: weight_for_0, 1: weight_for_1}\n",
    "\n",
    "# 11. Обучение модели\n",
    "history = model_nn.fit(\n",
    "    X_train_nn, y_train,\n",
    "    validation_data=(X_test_nn, y_test),\n",
    "    epochs=20,                  # Максимальное количество эпох\n",
    "    batch_size=1024,            # Размер батча (увеличили для скорости)\n",
    "    callbacks=callbacks,        # Используем коллбэки\n",
    "    class_weight=class_weights, # Веса классов для дисбаланса\n",
    "    verbose=1                   # Выводим прогресс\n",
    ")\n",
    "\n",
    "# 12. Оценка модели\n",
    "y_pred_proba = model_nn.predict(X_test_nn).ravel()  # Предсказанные вероятности\n",
    "auc_nn = roc_auc_score(y_test, y_pred_proba)\n",
    "print(f'\\nИтоговый AUC: {auc_nn:.4f}')\n",
    "\n",
    "# 13. Визуализация истории обучения\n",
    "import matplotlib.pyplot as plt\n",
    "\n",
    "plt.figure(figsize=(12, 4))\n",
    "plt.subplot(1, 2, 1)\n",
    "plt.plot(history.history['auc'], label='Train AUC')\n",
    "plt.plot(history.history['val_auc'], label='Validation AUC')\n",
    "plt.title('AUC')\n",
    "plt.legend()\n",
    "\n",
    "plt.subplot(1, 2, 2)\n",
    "plt.plot(history.history['loss'], label='Train Loss')\n",
    "plt.plot(history.history['val_loss'], label='Validation Loss')\n",
    "plt.title('Loss')\n",
    "plt.legend()\n",
    "plt.show()"
   ]
  },
  {
   "cell_type": "markdown",
   "id": "0778edeb",
   "metadata": {},
   "source": [
    "## Выводы\n",
    "\n",
    "📊 XGBoost — мощный инструмент для задач классификации и регрессии, который часто показывает высокие результаты благодаря своей оптимизированной реализации и встроенным механизмам регуляризации.\n",
    "\n",
    "Аналитическая интерпретация важности признаков\n",
    "\n",
    "Приоритет поведенческих метрик:\n",
    "\n",
    "hit_number (количество событий в сессии) и visit_number (количество визитов) являются наиболее значимыми факторами конверсии\n",
    "\n",
    "Их совокупная важность превышает 50% от общего влияния признаков\n",
    "\n",
    "Паттерны пользовательского поведения:\n",
    "\n",
    "Новички: Пользователи требуют больше взаимодействий (hit_number) для конверсии\n",
    "\n",
    "Постоянные клиенты: Конвертируются быстрее \n",
    "\n",
    "UX-оптимизация:\n",
    "\n",
    "Сократить путь до целевого действия до 5 шагов\n",
    "\n",
    "Внедрить прогресс-бар для многошаговых процессов\n",
    "\n",
    "Добавить триггеры вовлечения на 3-м событии сессии\n",
    "\n",
    "📊 Основные особенности XGBoost\n",
    "\n",
    "Градиентный бустинг:\n",
    "XGBoost строит ансамбль деревьев решений последовательно, каждое последующее дерево исправляет ошибки предыдущих.\n",
    "Это позволяет модели постепенно улучшать свои предсказания.\n",
    "\n",
    "Оптимизированный алгоритм:\n",
    "XGBoost использует оптимизированные алгоритмы для быстрого обучения и предсказания.\n",
    "Поддерживает параллельное обучение на CPU и GPU, что значительно ускоряет процесс.\n",
    "\n",
    "Обработка категориальных признаков:\n",
    "XGBoost может автоматически обрабатывать категориальные признаки, что упрощает предобработку данных.\n",
    "\n",
    "Регуляризация:\n",
    "Включает L1 и L2 регуляризацию, которые помогают избежать переобучения и улучшают обобщающую способность модели.\n",
    "Обработка пропусков:\n",
    "XGBoost умеет обрабатывать пропущенные значения без предварительной импутации.\n",
    "\n",
    "Кастомизация:\n",
    "Поддерживает кастомные функции потерь и метрики, что позволяет адаптировать модель под конкретную задачу.\n",
    "\n",
    "📈 Почему XGBoost дал вам лучшие результаты\n",
    "\n",
    "Эффективность градиентного бустинга:\n",
    "Градиентный бустинг в целом очень эффективен для задач классификации, особенно когда данные имеют сложные нелинейные зависимости.\n",
    "\n",
    "Оптимизированный алгоритм:\n",
    "XGBoost оптимизирован для быстрого обучения и низкого потребления памяти, что позволяет использовать его на больших наборах данных.\n",
    "\n",
    "Регуляризация:\n",
    "Встроенные механизмы регуляризации помогают избежать переобучения, что улучшает обобщающую способность модели на новых данных.\n",
    "\n",
    "Обработка категориальных признаков:\n",
    "Автоматическая обработка категориальных признаков упрощает предобработку данных и позволяет использовать больше информации из данных.\n",
    "\n",
    "Обработка пропусков:\n",
    "Встроенная поддержка пропущенных значений позволяет избежать ошибок и улучшить качество модели.\n"
   ]
  }
 ],
 "metadata": {
  "kernelspec": {
   "display_name": "Python 3",
   "language": "python",
   "name": "python3"
  },
  "language_info": {
   "codemirror_mode": {
    "name": "ipython",
    "version": 3
   },
   "file_extension": ".py",
   "mimetype": "text/x-python",
   "name": "python",
   "nbconvert_exporter": "python",
   "pygments_lexer": "ipython3",
   "version": "3.13.2"
  }
 },
 "nbformat": 4,
 "nbformat_minor": 5
}
